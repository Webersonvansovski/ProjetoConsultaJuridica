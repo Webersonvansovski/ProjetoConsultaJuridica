{
 "cells": [
  {
   "cell_type": "code",
   "execution_count": 72,
   "id": "a5bbebcb",
   "metadata": {},
   "outputs": [
    {
     "name": "stdout",
     "output_type": "stream",
     "text": [
      "\n"
     ]
    }
   ],
   "source": [
    "# criar o navegador\n",
    "from selenium import webdriver\n",
    "from selenium.webdriver.chrome.service import Service\n",
    "from webdriver_manager.chrome import ChromeDriverManager\n",
    "from selenium.webdriver.common.by import By\n",
    "\n",
    "\n",
    "\n",
    "servico = Service(ChromeDriverManager().install())\n",
    "navegador = webdriver.Chrome(service=servico)"
   ]
  },
  {
   "cell_type": "code",
   "execution_count": 73,
   "id": "b1863ba7",
   "metadata": {},
   "outputs": [],
   "source": [
    "# abrir a página index (entrar no site da busca jurídica)\n",
    "import os\n",
    "\n",
    "caminho = os.getcwd()\n",
    "arquivo = caminho + r\"\\index.html\"\n",
    "navegador.get(arquivo)"
   ]
  },
  {
   "cell_type": "code",
   "execution_count": 74,
   "id": "d5c695b6",
   "metadata": {},
   "outputs": [],
   "source": [
    "from selenium.webdriver import ActionChains\n",
    "\n",
    "# abrir a lista de cidades\n",
    "botao = navegador.find_element(By.CLASS_NAME, 'dropdown-menu')\n",
    "ActionChains(navegador).move_to_element(botao).perform()\n",
    "\n",
    "# selecionando a cidade (rj)\n",
    "navegador.find_element(By.XPATH, '/html/body/div/div/div/a[2]').click()"
   ]
  },
  {
   "cell_type": "code",
   "execution_count": 75,
   "id": "46acd077",
   "metadata": {},
   "outputs": [],
   "source": [
    "# mudar para nova aba\n",
    "aba_original = navegador.window_handles[0]\n",
    "aba_nova = navegador.window_handles[1]\n",
    "\n",
    "navegador.switch_to.window(aba_nova)\n",
    "# preencher o formulário com os dados de busca\n",
    "navegador.find_element(By.ID, 'nome').send_keys('weberson')\n",
    "navegador.find_element(By.ID, 'advogado').send_keys('glauber de sá')\n",
    "navegador.find_element(By.ID, 'numero').send_keys('ED97458264')\n",
    "\n",
    "# clicar em pesquisar\n",
    "navegador.find_element(By.CLASS_NAME, 'registerbtn').click()"
   ]
  },
  {
   "cell_type": "code",
   "execution_count": 76,
   "id": "8c577f05",
   "metadata": {},
   "outputs": [],
   "source": [
    "# confirmar a pesquisa\n",
    "alerta = navegador.switch_to.alert\n",
    "alerta.accept()"
   ]
  },
  {
   "cell_type": "code",
   "execution_count": 77,
   "id": "27a335f2",
   "metadata": {},
   "outputs": [
    {
     "name": "stdout",
     "output_type": "stream",
     "text": [
      "Processo não encontrado!\n"
     ]
    }
   ],
   "source": [
    "# esperar o resultado da pesquisa e agir de acordo com o resultado\n",
    "import time \n",
    "\n",
    "while True:\n",
    "    try:\n",
    "        alerta = navegador.switch_to.alert\n",
    "        break\n",
    "    except:\n",
    "        time.sleep(1)\n",
    "texto_alerta = alerta.text    \n",
    "\n",
    "if 'Processo encontrado com sucesso' in texto_alerta:\n",
    "    alerta.accept()\n",
    "    print('Processo encontrado!')\n",
    "else:\n",
    "    print('Processo não encontrado!')\n",
    "    alerta.accept()"
   ]
  },
  {
   "cell_type": "code",
   "execution_count": null,
   "id": "094a14ed",
   "metadata": {},
   "outputs": [],
   "source": []
  }
 ],
 "metadata": {
  "kernelspec": {
   "display_name": "Python 3 (ipykernel)",
   "language": "python",
   "name": "python3"
  },
  "language_info": {
   "codemirror_mode": {
    "name": "ipython",
    "version": 3
   },
   "file_extension": ".py",
   "mimetype": "text/x-python",
   "name": "python",
   "nbconvert_exporter": "python",
   "pygments_lexer": "ipython3",
   "version": "3.9.12"
  }
 },
 "nbformat": 4,
 "nbformat_minor": 5
}
